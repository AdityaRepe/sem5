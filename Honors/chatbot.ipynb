{
  "cells": [
    {
      "cell_type": "code",
      "execution_count": null,
      "metadata": {
        "colab": {
          "background_save": true,
          "base_uri": "https://localhost:8080/"
        },
        "id": "6uQF6JcyKMi5",
        "outputId": "18d18945-2953-4fb5-97e8-f25ba91f251b"
      },
      "outputs": [
        {
          "name": "stderr",
          "output_type": "stream",
          "text": [
            "[nltk_data] Downloading package punkt to /root/nltk_data...\n",
            "[nltk_data]   Package punkt is already up-to-date!\n",
            "[nltk_data] Downloading package wordnet to /root/nltk_data...\n",
            "[nltk_data]   Package wordnet is already up-to-date!\n"
          ]
        },
        {
          "name": "stdout",
          "output_type": "stream",
          "text": [
            "Hello! I'm DJBOT. How can I help you today?\n",
            "DJBOT: None\n",
            "DJBOT: None\n",
            "DJBOT: DJ Sanghvi College provides various facilities such as laboratories, libraries, sports facilities, and more. For detailed information, visit the Facilities section on the website.\n",
            "DJBOT: Information regarding management quota admissions can be found on the college website or by contacting the admission office.\n",
            "DJBOT: None\n",
            "DJBOT: Eligibility criteria vary depending on the program. Please refer to the admission section on the college website for detailed information.\n",
            "DJBOT: For admission inquiries, please visit the college website or contact the admission office directly.\n"
          ]
        }
      ],
      "source": [
        "import nltk\n",
        "from nltk.chat.util import Chat, reflections\n",
        "\n",
        "nltk.download('punkt')\n",
        "nltk.download('wordnet')\n",
        "\n",
        "patterns = [\n",
        "    (r'hi|hello|hey', ['Hello!', 'Hi there!', 'Hey!']),\n",
        "    (r'how are you?', ['I\\'m good, thank you!', 'I\\'m doing well, thanks for asking.']),\n",
        "    (r'what is your name?', ['You can call me DJBOT.', 'I go by the name DJBOT.']),\n",
        "    (r'(.*) your name?', ['You can call me DJBOT.', 'I go by the name DJBOT.']),\n",
        "    (r'How can I get admission in DJ SANGHVI COLLEGE ?', ['For admission inquiries, please visit the college website or contact the admission office directly.']),\n",
        "    (r'What are the eligibility criteria for admission?', ['Eligibility criteria vary depending on the program. Please refer to the admission section on the college website for detailed information.']),\n",
        "    (r'Which BTech courses are offered by DJ SANGHVI COLLEGE ?', ['DJ Sanghvi College offers B.Tech courses in CSE(ICB), CSE, IT, CSE(DS), AIML, and AIDS.']),\n",
        "    (r'What are the specializations available in BTech courses?', ['Specializations include CSE (ICB), CSE, IT, CSE (DS), AIML, and AIDS.']),\n",
        "    (r'Is there any management quota for admission?', ['Information regarding management quota admissions can be found on the college website or by contacting the admission office.']),\n",
        "    (r'How can I contact the college administration?', ['You can find contact information for the college administration on the \"Contact Us\" page of the website.']),\n",
        "    (r'What facilities does the college offer?', ['DJ Sanghvi College provides various facilities such as laboratories, libraries, sports facilities, and more. For detailed information, visit the Facilities section on the website.'])\n",
        "]\n",
        "\n",
        "chatbot = Chat(patterns, reflections)\n",
        "\n",
        "print(\"Hello! I'm DJBOT. How can I help you today?\")\n",
        "while True:\n",
        "    user_input = input(\"You: \")\n",
        "    response = chatbot.respond(user_input)\n",
        "    print(\"DJBOT:\", response)"
      ]
    },
    {
      "cell_type": "code",
      "execution_count": null,
      "metadata": {
        "id": "UKKPx8-OLD8j"
      },
      "outputs": [],
      "source": []
    }
  ],
  "metadata": {
    "colab": {
      "provenance": []
    },
    "kernelspec": {
      "display_name": "Python 3",
      "name": "python3"
    },
    "language_info": {
      "name": "python"
    }
  },
  "nbformat": 4,
  "nbformat_minor": 0
}