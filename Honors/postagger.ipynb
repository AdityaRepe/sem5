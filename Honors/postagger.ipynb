{
  "nbformat": 4,
  "nbformat_minor": 0,
  "metadata": {
    "colab": {
      "provenance": []
    },
    "kernelspec": {
      "name": "python3",
      "display_name": "Python 3"
    },
    "language_info": {
      "name": "python"
    }
  },
  "cells": [
    {
      "cell_type": "code",
      "execution_count": 1,
      "metadata": {
        "colab": {
          "base_uri": "https://localhost:8080/"
        },
        "id": "EbcV3uSWxKrS",
        "outputId": "0612f467-83ef-4604-d1cc-4925922fe425"
      },
      "outputs": [
        {
          "output_type": "stream",
          "name": "stderr",
          "text": [
            "[nltk_data] Downloading package treebank to /root/nltk_data...\n",
            "[nltk_data]   Unzipping corpora/treebank.zip.\n",
            "[nltk_data] Downloading package punkt to /root/nltk_data...\n",
            "[nltk_data]   Unzipping tokenizers/punkt.zip.\n",
            "<ipython-input-1-a6f59f40c49c>:17: DeprecationWarning: \n",
            "  Function evaluate() has been deprecated.  Use accuracy(gold)\n",
            "  instead.\n",
            "  accuracy = hmm_tagger.evaluate(test_data)\n"
          ]
        },
        {
          "output_type": "stream",
          "name": "stdout",
          "text": [
            "Accuracy: 0.8993384223918575\n",
            "Tagged Sentence: [('The', 'DT'), ('quick', 'JJ'), ('brown', 'NNS'), ('fox', '.'), ('jumps', \"''\"), ('over', 'IN'), ('the', 'DT'), ('lazy', 'JJ'), ('dog', 'NNS')]\n"
          ]
        }
      ],
      "source": [
        "import nltk\n",
        "from nltk.corpus import treebank\n",
        "nltk.download('treebank')\n",
        "nltk.download('punkt')\n",
        "\n",
        "# Training the Hidden Markov Model (HMM) POS tagger\n",
        "def train_hmm_tagger():\n",
        "    tagged_sentences = treebank.tagged_sents()\n",
        "    split = int(0.9 * len(tagged_sentences))\n",
        "    train_data = tagged_sentences[:split]\n",
        "    test_data = tagged_sentences[split:]\n",
        "\n",
        "    # Train the HMM tagger\n",
        "    hmm_tagger = nltk.HiddenMarkovModelTagger.train(train_data)\n",
        "\n",
        "    # Evaluate the accuracy\n",
        "    accuracy = hmm_tagger.evaluate(test_data)\n",
        "    print(\"Accuracy:\", accuracy)\n",
        "\n",
        "    return hmm_tagger\n",
        "\n",
        "# Test the trained HMM tagger\n",
        "def test_hmm_tagger(hmm_tagger, sentence):\n",
        "    tagged_sentence = hmm_tagger.tag(sentence)\n",
        "    print(\"Tagged Sentence:\", tagged_sentence)\n",
        "\n",
        "# Example usage\n",
        "def main():\n",
        "    # Train the HMM tagger\n",
        "    hmm_tagger = train_hmm_tagger()\n",
        "\n",
        "    # Test the HMM tagger\n",
        "    test_sentence = \"The quick brown fox jumps over the lazy dog\"\n",
        "    test_tokens = nltk.word_tokenize(test_sentence)\n",
        "    test_hmm_tagger(hmm_tagger, test_tokens)\n",
        "\n",
        "if __name__ == \"__main__\":\n",
        "    main()\n"
      ]
    },
    {
      "cell_type": "code",
      "source": [],
      "metadata": {
        "id": "T6BqBKMzxNcf"
      },
      "execution_count": null,
      "outputs": []
    }
  ]
}