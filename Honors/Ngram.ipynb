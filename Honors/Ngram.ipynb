{
  "nbformat": 4,
  "nbformat_minor": 0,
  "metadata": {
    "colab": {
      "provenance": []
    },
    "kernelspec": {
      "name": "python3",
      "display_name": "Python 3"
    },
    "language_info": {
      "name": "python"
    }
  },
  "cells": [
    {
      "cell_type": "code",
      "execution_count": 1,
      "metadata": {
        "colab": {
          "base_uri": "https://localhost:8080/"
        },
        "id": "xz2eop_8v9TC",
        "outputId": "3ebf9b1d-d446-452a-a508-e53183ebf13c"
      },
      "outputs": [
        {
          "output_type": "stream",
          "name": "stderr",
          "text": [
            "[nltk_data] Downloading package punkt to /root/nltk_data...\n",
            "[nltk_data]   Unzipping tokenizers/punkt.zip.\n"
          ]
        },
        {
          "output_type": "stream",
          "name": "stdout",
          "text": [
            "N-Gram model for the text:\n",
            "Counter({'The quick': 1, 'quick brown': 1, 'brown fox': 1, 'fox jumps': 1, 'jumps over': 1, 'over the': 1, 'the lazy': 1, 'lazy dog': 1})\n"
          ]
        }
      ],
      "source": [
        "import nltk\n",
        "from nltk.util import ngrams\n",
        "from collections import Counter\n",
        "nltk.download('punkt')\n",
        "\n",
        "def generate_ngrams(text, n):\n",
        "    tokens = nltk.word_tokenize(text)\n",
        "    n_grams = ngrams(tokens, n)\n",
        "    return [' '.join(gram) for gram in n_grams]\n",
        "\n",
        "def build_ngram_model(text, n):\n",
        "    ngram_list = generate_ngrams(text, n)\n",
        "    ngram_model = Counter(ngram_list)\n",
        "    return ngram_model\n",
        "\n",
        "text = \"The quick brown fox jumps over the lazy dog\"\n",
        "n = 2 # Change the value of n for different N-Grams\n",
        "ngram_model = build_ngram_model(text, n)\n",
        "\n",
        "print(\"N-Gram model for the text:\")\n",
        "print(ngram_model)"
      ]
    },
    {
      "cell_type": "code",
      "source": [],
      "metadata": {
        "id": "mVNGy9QbwAWv"
      },
      "execution_count": null,
      "outputs": []
    }
  ]
}