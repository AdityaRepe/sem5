{
  "nbformat": 4,
  "nbformat_minor": 0,
  "metadata": {
    "colab": {
      "provenance": []
    },
    "kernelspec": {
      "name": "python3",
      "display_name": "Python 3"
    },
    "language_info": {
      "name": "python"
    }
  },
  "cells": [
    {
      "cell_type": "code",
      "execution_count": null,
      "metadata": {
        "colab": {
          "base_uri": "https://localhost:8080/"
        },
        "id": "Gv27zkUyaQ74",
        "outputId": "5dc9b1d9-d152-4476-d6b4-89662d74ffb4"
      },
      "outputs": [
        {
          "output_type": "stream",
          "name": "stderr",
          "text": [
            "[nltk_data] Downloading package stopwords to /root/nltk_data...\n",
            "[nltk_data]   Package stopwords is already up-to-date!\n",
            "[nltk_data] Downloading package punkt to /root/nltk_data...\n",
            "[nltk_data]   Unzipping tokenizers/punkt.zip.\n"
          ]
        },
        {
          "output_type": "stream",
          "name": "stdout",
          "text": [
            "Text: The Power Rangers are a group of teenagers who transform into superheroes to protect the world from evil forces. They are aided by their mentor Zordon and their advanced technology. Together, they fight against monsters and villains to save the day.\n",
            "\n",
            "One day, a new threat emerges in the form of the evil Rita Repulsa. She seeks to conquer Earth and unleash chaos upon the world. The Power Rangers must band together and use their powers to stop her and her army of monsters.\n",
            "\n",
            "With teamwork and determination, the Power Rangers face numerous challenges and obstacles. But through courage and unity, they always emerge victorious, proving that good will always triumph over evil.\n",
            "\n",
            "Join the Power Rangers on their epic journey as they battle against the forces of darkness and defend the world from destruction!\n",
            "\n",
            "Tokens: ['the', 'power', 'rangers', 'are', 'a', 'group', 'of', 'teenagers', 'who', 'transform', 'into', 'superheroes', 'to', 'protect', 'the', 'world', 'from', 'evil', 'forces', '.', 'they', 'are', 'aided', 'by', 'their', 'mentor', 'zordon', 'and', 'their', 'advanced', 'technology', '.', 'together', ',', 'they', 'fight', 'against', 'monsters', 'and', 'villains', 'to', 'save', 'the', 'day', '.', 'one', 'day', ',', 'a', 'new', 'threat', 'emerges', 'in', 'the', 'form', 'of', 'the', 'evil', 'rita', 'repulsa', '.', 'she', 'seeks', 'to', 'conquer', 'earth', 'and', 'unleash', 'chaos', 'upon', 'the', 'world', '.', 'the', 'power', 'rangers', 'must', 'band', 'together', 'and', 'use', 'their', 'powers', 'to', 'stop', 'her', 'and', 'her', 'army', 'of', 'monsters', '.', 'with', 'teamwork', 'and', 'determination', ',', 'the', 'power', 'rangers', 'face', 'numerous', 'challenges', 'and', 'obstacles', '.', 'but', 'through', 'courage', 'and', 'unity', ',', 'they', 'always', 'emerge', 'victorious', ',', 'proving', 'that', 'good', 'will', 'always', 'triumph', 'over', 'evil', '.', 'join', 'the', 'power', 'rangers', 'on', 'their', 'epic', 'journey', 'as', 'they', 'battle', 'against', 'the', 'forces', 'of', 'darkness', 'and', 'defend', 'the', 'world', 'from', 'destruction', '!']\n",
            "\n",
            "Text without stop words: power rangers group teenagers transform superheroes protect world evil forces . aided mentor zordon advanced technology . together , fight monsters villains save day . one day , new threat emerges form evil rita repulsa . seeks conquer earth unleash chaos upon world . power rangers must band together use powers stop army monsters . teamwork determination , power rangers face numerous challenges obstacles . courage unity , always emerge victorious , proving good always triumph evil . join power rangers epic journey battle forces darkness defend world destruction !\n"
          ]
        }
      ],
      "source": [
        "import nltk\n",
        "from nltk.corpus import stopwords\n",
        "from nltk.tokenize import word_tokenize\n",
        "\n",
        "# Download stopwords\n",
        "nltk.download('stopwords')\n",
        "nltk.download('punkt')\n",
        "\n",
        "# Open and read the file\n",
        "with open(\"/content/sample.txt\", \"r\") as f:\n",
        "    text = f.read()\n",
        "\n",
        "print(\"Text:\", text)\n",
        "\n",
        "# Tokenize the text\n",
        "tokens = word_tokenize(text.lower())\n",
        "print(\"Tokens:\", tokens)\n",
        "\n",
        "# Remove stopwords\n",
        "english_stopwords = stopwords.words('english')\n",
        "tokens_wo_stopwords = [t for t in tokens if t not in english_stopwords]\n",
        "print(\"\\nText without stop words:\", \" \".join(tokens_wo_stopwords))\n"
      ]
    },
    {
      "cell_type": "code",
      "source": [
        "import nltk\n",
        "from nltk.tokenize import word_tokenize\n",
        "from nltk.stem import PorterStemmer\n",
        "\n",
        "# Download necessary resources\n",
        "nltk.download('punkt')\n",
        "\n",
        "# Open and read the file\n",
        "with open(\"/content/sample.txt\", \"r\") as f:\n",
        "    text = f.read()\n",
        "\n",
        "print(\"Text:\", text)\n",
        "\n",
        "# Tokenize the text\n",
        "tokens = word_tokenize(text.lower())\n",
        "print(\"Tokens:\", tokens)\n",
        "\n",
        "# Initialize the Porter Stemmer\n",
        "porter_stemmer = PorterStemmer()\n",
        "\n",
        "# Perform stemming\n",
        "stemmed_tokens = [porter_stemmer.stem(token) for token in tokens]\n",
        "print(\"Stemmed tokens:\", \" \".join(stemmed_tokens))"
      ],
      "metadata": {
        "colab": {
          "base_uri": "https://localhost:8080/"
        },
        "id": "qWjzVp3ic1J-",
        "outputId": "82e1dfc5-71e8-4ccb-90fc-216edadccd9d"
      },
      "execution_count": null,
      "outputs": [
        {
          "output_type": "stream",
          "name": "stdout",
          "text": [
            "Text: The Power Rangers are a group of teenagers who transform into superheroes to protect the world from evil forces. They are aided by their mentor Zordon and their advanced technology. Together, they fight against monsters and villains to save the day.\n",
            "\n",
            "One day, a new threat emerges in the form of the evil Rita Repulsa. She seeks to conquer Earth and unleash chaos upon the world. The Power Rangers must band together and use their powers to stop her and her army of monsters.\n",
            "\n",
            "With teamwork and determination, the Power Rangers face numerous challenges and obstacles. But through courage and unity, they always emerge victorious, proving that good will always triumph over evil.\n",
            "\n",
            "Join the Power Rangers on their epic journey as they battle against the forces of darkness and defend the world from destruction!\n",
            "\n",
            "Tokens: ['the', 'power', 'rangers', 'are', 'a', 'group', 'of', 'teenagers', 'who', 'transform', 'into', 'superheroes', 'to', 'protect', 'the', 'world', 'from', 'evil', 'forces', '.', 'they', 'are', 'aided', 'by', 'their', 'mentor', 'zordon', 'and', 'their', 'advanced', 'technology', '.', 'together', ',', 'they', 'fight', 'against', 'monsters', 'and', 'villains', 'to', 'save', 'the', 'day', '.', 'one', 'day', ',', 'a', 'new', 'threat', 'emerges', 'in', 'the', 'form', 'of', 'the', 'evil', 'rita', 'repulsa', '.', 'she', 'seeks', 'to', 'conquer', 'earth', 'and', 'unleash', 'chaos', 'upon', 'the', 'world', '.', 'the', 'power', 'rangers', 'must', 'band', 'together', 'and', 'use', 'their', 'powers', 'to', 'stop', 'her', 'and', 'her', 'army', 'of', 'monsters', '.', 'with', 'teamwork', 'and', 'determination', ',', 'the', 'power', 'rangers', 'face', 'numerous', 'challenges', 'and', 'obstacles', '.', 'but', 'through', 'courage', 'and', 'unity', ',', 'they', 'always', 'emerge', 'victorious', ',', 'proving', 'that', 'good', 'will', 'always', 'triumph', 'over', 'evil', '.', 'join', 'the', 'power', 'rangers', 'on', 'their', 'epic', 'journey', 'as', 'they', 'battle', 'against', 'the', 'forces', 'of', 'darkness', 'and', 'defend', 'the', 'world', 'from', 'destruction', '!']\n",
            "Stemmed tokens: the power ranger are a group of teenag who transform into superhero to protect the world from evil forc . they are aid by their mentor zordon and their advanc technolog . togeth , they fight against monster and villain to save the day . one day , a new threat emerg in the form of the evil rita repulsa . she seek to conquer earth and unleash chao upon the world . the power ranger must band togeth and use their power to stop her and her armi of monster . with teamwork and determin , the power ranger face numer challeng and obstacl . but through courag and uniti , they alway emerg victori , prove that good will alway triumph over evil . join the power ranger on their epic journey as they battl against the forc of dark and defend the world from destruct !\n"
          ]
        },
        {
          "output_type": "stream",
          "name": "stderr",
          "text": [
            "[nltk_data] Downloading package punkt to /root/nltk_data...\n",
            "[nltk_data]   Package punkt is already up-to-date!\n"
          ]
        }
      ]
    },
    {
      "cell_type": "code",
      "source": [],
      "metadata": {
        "id": "G1Wgh30ydtdk"
      },
      "execution_count": null,
      "outputs": []
    }
  ]
}